{
 "cells": [
  {
   "cell_type": "code",
   "execution_count": 32,
   "id": "30924a70",
   "metadata": {},
   "outputs": [],
   "source": [
    "# This script will summarize information from two reports on electricity markets\n",
    "import openai\n",
    "import PyPDF2\n",
    "import time\n",
    "import config\n",
    "from pathlib import Path\n",
    "from PyPDF2 import PdfReader\n",
    "\n",
    "# Use your own API key here in between the quotations\n",
    "\n",
    "openai.api_key= config.api_key\n",
    "\n",
    "# Point to the reports\n",
    "Report1 = \"XXX/Microeconomics.pdf\"\n"
   ]
  },
  {
   "cell_type": "code",
   "execution_count": 33,
   "id": "76f044e1",
   "metadata": {},
   "outputs": [
    {
     "name": "stdout",
     "output_type": "stream",
     "text": [
      "789\n"
     ]
    }
   ],
   "source": [
    "# Create timer to calculate time to finish this step\n",
    "start1 = time.time()\n",
    "\n",
    "# Create PDF reader objects\n",
    "reader1 = PyPDF2.PdfReader(Report1)\n",
    "#reader2 = PyPDF2.PdfReader(Report2)\n",
    "#reader3 = PyPDF2.PdfReader(Report3)\n",
    "\n",
    "# Check page count\n",
    "print(len(reader1.pages))\n",
    "#print(len(reader2.pages))\n",
    "#print(len(reader3.pages))\n",
    "\n"
   ]
  },
  {
   "cell_type": "code",
   "execution_count": 24,
   "id": "f862467a",
   "metadata": {},
   "outputs": [
    {
     "name": "stdout",
     "output_type": "stream",
     "text": [
      "29.61761975288391\n"
     ]
    }
   ],
   "source": [
    "# Extract text of reader1 and input into .TXT file for prompt input\n",
    "\n",
    "with open(\"reader1.txt\", \"w\", encoding = \"UTF-8\") as R1:\n",
    "\n",
    "    for i in range(len(reader1.pages)):\n",
    "        print(reader1.pages[i].extract_text(), file = R1)\n",
    "'''\n",
    "with open(\"reader2.txt\", \"w\", encoding = \"UTF-8\") as R2:\n",
    "\n",
    "    for i in range(len(reader2.pages)):\n",
    "        print(reader2.pages[i].extract_text(), file = R2)\n",
    "        \n",
    "with open(\"reader3.txt\", \"w\", encoding = \"UTF-8\") as R3:\n",
    "\n",
    "    for i in range(len(reader3.pages)):\n",
    "        print(reader3.pages[i].extract_text(), file = R3)\n",
    "\n",
    "'''      \n",
    "        \n",
    "        \n",
    "# Complete timer\n",
    "end1 = time.time()\n",
    "print((end1-start1))\n",
    "    "
   ]
  },
  {
   "cell_type": "code",
   "execution_count": 25,
   "id": "1dde0458",
   "metadata": {},
   "outputs": [],
   "source": [
    "# Check contents\n",
    "f = open(\"reader1.txt\", encoding=\"UTF8\")"
   ]
  },
  {
   "cell_type": "code",
   "execution_count": 26,
   "id": "8a7ae492",
   "metadata": {},
   "outputs": [],
   "source": [
    "# Check contents\n",
    "file_contents= f.read()"
   ]
  },
  {
   "cell_type": "code",
   "execution_count": 28,
   "id": "6d6b4c5f",
   "metadata": {},
   "outputs": [],
   "source": [
    "f.close()"
   ]
  },
  {
   "cell_type": "code",
   "execution_count": 34,
   "id": "f6b9dcaf",
   "metadata": {},
   "outputs": [],
   "source": [
    "# Define helper function \n",
    "def get_completion(prompt, model=\"gpt-3.5-turbo\"):\n",
    "    messages = [{\"role\": \"user\", \"content\": prompt}]\n",
    "    response = openai.ChatCompletion.create(\n",
    "        model=model,\n",
    "        messages=messages,\n",
    "        temperature=0, # this is the degree of randomness of the model's output\n",
    "    )\n",
    "    return response.choices[0].message[\"content\"]"
   ]
  },
  {
   "cell_type": "code",
   "execution_count": 35,
   "id": "d597a206",
   "metadata": {},
   "outputs": [],
   "source": [
    "file_contents = Report1\n",
    "#Report2 = \"reader2.txt\""
   ]
  },
  {
   "cell_type": "code",
   "execution_count": 17,
   "id": "e0e69632",
   "metadata": {},
   "outputs": [
    {
     "name": "stdout",
     "output_type": "stream",
     "text": [
      "Supply and demand elasticity are important concepts in microeconomics that measure the responsiveness of quantity demanded or supplied to changes in price or income. Elasticity is a measure of the degree to which a change in one variable affects another variable. \n",
      "\n",
      "Demand elasticity measures the responsiveness of quantity demanded to changes in price. If a small change in price leads to a large change in quantity demanded, demand is said to be elastic. If a large change in price leads to a small change in quantity demanded, demand is said to be inelastic. The formula for demand elasticity is:\n",
      "\n",
      "Elasticity of demand = (% change in quantity demanded) / (% change in price)\n",
      "\n",
      "Supply elasticity measures the responsiveness of quantity supplied to changes in price. If a small change in price leads to a large change in quantity supplied, supply is said to be elastic. If a large change in price leads to a small change in quantity supplied, supply is said to be inelastic. The formula for supply elasticity is:\n",
      "\n",
      "Elasticity of supply = (% change in quantity supplied) / (% change in price)\n",
      "\n",
      "In the report provided, the concept of elasticity is not explicitly discussed.\n"
     ]
    }
   ],
   "source": [
    "# Summarize report 1\n",
    "\n",
    "prompt = f\"\"\"\n",
    "Given Report1 below in Chapter 2.4, briefly explain \\\n",
    "the concepts of supply and demand elasticity. How is it measured?\\\n",
    "Provide an answer based on the Report below, delimited by triple backticks, in fewer than 1000 words.\n",
    "\n",
    "Report: ```{Report1}```\n",
    "\"\"\"\n",
    "\n",
    "response = get_completion(prompt)\n",
    "print(response)"
   ]
  },
  {
   "cell_type": "code",
   "execution_count": 18,
   "id": "ed39775f",
   "metadata": {},
   "outputs": [
    {
     "name": "stdout",
     "output_type": "stream",
     "text": [
      "Chapter 2.4 of the Microeconomics textbook discusses the concept of elasticity, which measures the responsiveness of one variable to changes in another variable. The key terms in this chapter include:\n",
      "\n",
      "1. Price elasticity of demand: This measures the responsiveness of quantity demanded to changes in price. It is calculated as the percentage change in quantity demanded divided by the percentage change in price. The formula for price elasticity of demand is:\n",
      "\n",
      "Price elasticity of demand = (% change in quantity demanded) / (% change in price)\n",
      "\n",
      "2. Income elasticity of demand: This measures the responsiveness of quantity demanded to changes in income. It is calculated as the percentage change in quantity demanded divided by the percentage change in income. The formula for income elasticity of demand is:\n",
      "\n",
      "Income elasticity of demand = (% change in quantity demanded) / (% change in income)\n",
      "\n",
      "3. Cross-price elasticity of demand: This measures the responsiveness of quantity demanded of one good to changes in the price of another good. It is calculated as the percentage change in quantity demanded of one good divided by the percentage change in the price of another good. The formula for cross-price elasticity of demand is:\n",
      "\n",
      "Cross-price elasticity of demand = (% change in quantity demanded of good A) / (% change in price of good B)\n",
      "\n",
      "4. Elastic demand: This refers to a situation where the percentage change in quantity demanded is greater than the percentage change in price. In other words, consumers are very responsive to changes in price. The price elasticity of demand is greater than 1.\n",
      "\n",
      "5. Inelastic demand: This refers to a situation where the percentage change in quantity demanded is less than the percentage change in price. In other words, consumers are not very responsive to changes in price. The price elasticity of demand is less than 1.\n",
      "\n",
      "6. Unit elastic demand: This refers to a situation where the percentage change in quantity demanded is equal to the percentage change in price. In other words, consumers are exactly responsive to changes in price. The price elasticity of demand is equal to 1.\n",
      "\n",
      "Overall, elasticity is an important concept in microeconomics because it helps us understand how consumers and producers respond to changes in prices, incomes, and other variables. By calculating elasticity, we can make predictions about how changes in the market will affect demand and supply, and we can use this information to make better decisions about pricing, production, and other aspects of business strategy.\n"
     ]
    }
   ],
   "source": [
    "# Summarize report 1\n",
    "\n",
    "prompt = f\"\"\"\n",
    "Given Report1 below in Chapter 2.4, briefly explain the key terms in this chapter. \\\n",
    "Include any equations, if necessary.\\\n",
    "Provide an answer based on the Report below, delimited by triple backticks, in fewer than 1000 words.\n",
    "\n",
    "Report: ```{Report1}```\n",
    "\"\"\"\n",
    "\n",
    "response = get_completion(prompt)\n",
    "print(response)"
   ]
  },
  {
   "cell_type": "code",
   "execution_count": 19,
   "id": "d19a94ee",
   "metadata": {},
   "outputs": [
    {
     "name": "stdout",
     "output_type": "stream",
     "text": [
      "The report in Chapter 4.1 - Individual Demand discusses the concept of individual demand and its determinants. Individual demand refers to the quantity of a good or service that an individual is willing and able to purchase at a given price and time. The determinants of individual demand include the price of the good or service, the individual's income, the prices of related goods, and the individual's preferences.\n",
      "\n",
      "The law of demand states that as the price of a good or service increases, the quantity demanded decreases, and vice versa. This relationship is represented by the demand curve, which is a graphical representation of the relationship between the price of a good or service and the quantity demanded. The demand curve slopes downward from left to right, indicating the inverse relationship between price and quantity demanded.\n",
      "\n",
      "The income effect and the substitution effect are two important concepts that explain the relationship between the price of a good or service and the quantity demanded. The income effect refers to the change in the quantity demanded of a good or service due to a change in the individual's income. If the price of a good or service remains constant, an increase in income will lead to an increase in the quantity demanded, and vice versa. The substitution effect refers to the change in the quantity demanded of a good or service due to a change in the price of a related good or service. If the price of a substitute good or service increases, the quantity demanded of the original good or service will increase, and vice versa.\n",
      "\n",
      "The concept of elasticity is also important in understanding individual demand. Elasticity refers to the responsiveness of quantity demanded to a change in price or income. The price elasticity of demand is the percentage change in quantity demanded divided by the percentage change in price. If the price elasticity of demand is greater than one, the good or service is considered elastic, meaning that a small change in price will lead to a large change in quantity demanded. If the price elasticity of demand is less than one, the good or service is considered inelastic, meaning that a change in price will have a relatively small effect on quantity demanded.\n",
      "\n",
      "The cross-price elasticity of demand is the percentage change in quantity demanded of one good or service divided by the percentage change in the price of a related good or service. If the cross-price elasticity of demand is positive, the two goods or services are substitutes, meaning that an increase in the price of one will lead to an increase in the quantity demanded of the other. If the cross-price elasticity of demand is negative, the two goods or services are complements, meaning that an increase in the price of one will lead to a decrease in the quantity demanded of the other.\n",
      "\n",
      "Finally, the concept of consumer surplus is important in understanding individual demand. Consumer surplus refers to the difference between the maximum price that an individual is willing to pay for a good or service and the actual price that they pay. Consumer surplus represents the benefit that the individual receives from purchasing the good or service, and can be calculated as the area below the demand curve and above the actual price.\n",
      "\n",
      "Overall, the concept of individual demand is important in understanding how individuals make consumption decisions and how these decisions are influenced by various factors such as price, income, and preferences. The determinants of individual demand, the law of demand, the income and substitution effects, elasticity, cross-price elasticity, and consumer surplus are all key concepts that are essential in understanding individual demand.\n"
     ]
    }
   ],
   "source": [
    "# Summarize report 1\n",
    "\n",
    "prompt = f\"\"\"\n",
    "Given Report below in Chapter 4.1 - Individual Demand, explain the key concepts and include any \\\n",
    "terms or equations needed to understand the material.\\ \n",
    "Provide an answer based on the Report below, delimited by triple backticks, in fewer than 800 words.\n",
    "\n",
    "Report: ```{Report1}```\n",
    "\"\"\"\n",
    "\n",
    "response = get_completion(prompt)\n",
    "print(response)"
   ]
  },
  {
   "cell_type": "code",
   "execution_count": 36,
   "id": "ee4a44a7",
   "metadata": {},
   "outputs": [
    {
     "name": "stdout",
     "output_type": "stream",
     "text": [
      "The key concept in Chapter 4.3 - Market Demand is the market demand curve, which represents the total quantity of a good or service that all consumers in a market are willing and able to purchase at different prices. The market demand curve is derived by adding up the individual demand curves of all consumers in the market.\n",
      "\n",
      "The law of demand states that as the price of a good or service increases, the quantity demanded decreases, and vice versa. This relationship is represented by a downward-sloping demand curve. The slope of the demand curve is determined by the price elasticity of demand, which measures the responsiveness of quantity demanded to changes in price.\n",
      "\n",
      "The market demand curve can be shifted by changes in factors other than price, such as changes in consumer income, tastes and preferences, the prices of related goods, and the size and composition of the population. These shifts are represented by movements of the demand curve.\n",
      "\n",
      "The market demand curve can be used to determine the market equilibrium price and quantity, where the quantity demanded equals the quantity supplied. At this point, there is no excess demand or excess supply in the market.\n",
      "\n",
      "The market demand curve can also be used to analyze the effects of government policies, such as taxes and subsidies, on the market. Taxes increase the cost of production and shift the supply curve to the left, leading to a higher equilibrium price and a lower equilibrium quantity. Subsidies decrease the cost of production and shift the supply curve to the right, leading to a lower equilibrium price and a higher equilibrium quantity.\n",
      "\n",
      "The key equation used to calculate the market demand curve is:\n",
      "\n",
      "Qd = a - bP\n",
      "\n",
      "where Qd is the quantity demanded, P is the price, a is the intercept of the demand curve, and b is the slope of the demand curve. The intercept represents the quantity demanded when the price is zero, and the slope represents the change in quantity demanded for a one-unit change in price.\n",
      "\n",
      "Overall, understanding the market demand curve is essential for analyzing the behavior of consumers and firms in a market and for making informed decisions about pricing and production.\n"
     ]
    }
   ],
   "source": [
    "# Summarize report 1\n",
    "\n",
    "prompt = f\"\"\"\n",
    "Given Report below in Chapter 4.3 - Market Demand, in detail, explain the key concepts and include any \\\n",
    "terms or equations needed to understand the material.\\ \n",
    "Provide an answer based on the Report below, delimited by triple backticks, in fewer than 1000 words.\n",
    "\n",
    "Report: ```{Report1}```\n",
    "\"\"\"\n",
    "\n",
    "response = get_completion(prompt)\n",
    "print(response)"
   ]
  },
  {
   "cell_type": "code",
   "execution_count": 38,
   "id": "cabc70f2",
   "metadata": {},
   "outputs": [
    {
     "name": "stdout",
     "output_type": "stream",
     "text": [
      "The concept of consumer surplus is an important one in microeconomics. It refers to the difference between the maximum amount that a consumer is willing to pay for a good or service and the actual price that they pay. In other words, it is the benefit that a consumer receives from purchasing a good or service at a price that is lower than what they would have been willing to pay.\n",
      "\n",
      "Consumer surplus can be illustrated graphically using a demand curve. The demand curve shows the relationship between the price of a good or service and the quantity that consumers are willing to purchase at that price. The area below the demand curve and above the price represents the total amount that consumers are willing to pay for the good or service. The area below the price and above the quantity purchased represents the total amount that consumers actually pay for the good or service. The difference between these two areas is the consumer surplus.\n",
      "\n",
      "Mathematically, consumer surplus can be calculated as follows:\n",
      "\n",
      "CS = WTP - P\n",
      "\n",
      "Where CS is the consumer surplus, WTP is the consumer's willingness to pay, and P is the actual price paid.\n",
      "\n",
      "Consumer surplus is important because it represents a measure of the overall welfare that consumers receive from a market. When consumer surplus is high, it indicates that consumers are able to purchase goods and services at prices that are lower than what they would have been willing to pay. This can lead to increased consumer satisfaction and overall economic efficiency.\n",
      "\n",
      "There are several factors that can affect consumer surplus. One of the most important is the elasticity of demand. When demand is elastic, small changes in price can lead to large changes in the quantity demanded. This means that consumers are more sensitive to changes in price, and are more likely to experience high levels of consumer surplus. On the other hand, when demand is inelastic, changes in price have little effect on the quantity demanded. This means that consumers are less sensitive to changes in price, and are less likely to experience high levels of consumer surplus.\n",
      "\n",
      "Another factor that can affect consumer surplus is the availability of substitutes. When there are many substitutes available for a good or service, consumers are more likely to be able to find a lower price. This can lead to higher levels of consumer surplus. Conversely, when there are few substitutes available, consumers may be forced to pay higher prices, leading to lower levels of consumer surplus.\n",
      "\n",
      "Overall, consumer surplus is an important concept in microeconomics that helps to measure the welfare that consumers receive from a market. It can be calculated using a demand curve and represents the difference between the maximum amount that a consumer is willing to pay and the actual price that they pay. Factors that can affect consumer surplus include the elasticity of demand and the availability of substitutes.\n"
     ]
    }
   ],
   "source": [
    "# Summarize report 1\n",
    "\n",
    "prompt = f\"\"\"\n",
    "Given Report below in Chapter 4.4 - Consumer Surplus, explain the key concepts and include any \\\n",
    "terms or equations needed to understand the material.\\ \n",
    "Provide an answer based on the Report below, delimited by triple backticks, in fewer than 800 words.\n",
    "\n",
    "Report: ```{Report1}```\n",
    "\"\"\"\n",
    "\n",
    "response = get_completion(prompt)\n",
    "print(response)"
   ]
  },
  {
   "cell_type": "code",
   "execution_count": 20,
   "id": "64b07b8b",
   "metadata": {},
   "outputs": [
    {
     "name": "stdout",
     "output_type": "stream",
     "text": [
      "The report in Chapter 6 - Production discusses the concept of production and the factors that influence it. Production refers to the process of transforming inputs into outputs, which can be goods or services. The report highlights the importance of understanding the production process as it is a crucial aspect of the economy.\n",
      "\n",
      "The report introduces the concept of production function, which is a mathematical representation of the relationship between inputs and outputs. The production function can be expressed as Q = f(K, L), where Q is the quantity of output, K is the quantity of capital, and L is the quantity of labor. The production function shows how the quantity of output depends on the quantity of inputs used in the production process.\n",
      "\n",
      "The report also discusses the concept of marginal product, which is the additional output produced by using one more unit of input. The marginal product of labor (MPL) is the additional output produced by using one more unit of labor, while the marginal product of capital (MPK) is the additional output produced by using one more unit of capital. The report highlights that the marginal product of labor and capital are important in determining the optimal combination of inputs to use in the production process.\n",
      "\n",
      "The report also introduces the concept of total product, which is the total quantity of output produced by using a given quantity of inputs. The total product curve shows how the total product changes as the quantity of inputs used in the production process changes. The report highlights that the total product curve exhibits diminishing marginal returns, which means that as more units of input are added, the marginal product of each additional unit of input decreases.\n",
      "\n",
      "The report also discusses the concept of isoquants, which are curves that represent all the possible combinations of inputs that can produce a given level of output. The report highlights that isoquants are useful in determining the optimal combination of inputs to use in the production process.\n",
      "\n",
      "The report also introduces the concept of returns to scale, which refers to the relationship between the quantity of inputs used in the production process and the quantity of output produced. The report highlights that there are three types of returns to scale: increasing returns to scale, constant returns to scale, and decreasing returns to scale.\n",
      "\n",
      "Overall, the report in Chapter 6 - Production provides a comprehensive overview of the key concepts related to production and the factors that influence it. The concepts of production function, marginal product, total product, isoquants, and returns to scale are important in understanding the production process and determining the optimal combination of inputs to use in the production process.\n"
     ]
    }
   ],
   "source": [
    "# Summarize report 1\n",
    "\n",
    "prompt = f\"\"\"\n",
    "Given Report below in Chapter 6 - Production, explain the key concepts and include any \\\n",
    "terms or equations needed to understand the material at a high level.\\ \n",
    "Provide an answer based on the Report below, delimited by triple backticks, in fewer than 1000 words.\n",
    "\n",
    "Report: ```{Report1}```\n",
    "\"\"\"\n",
    "\n",
    "response = get_completion(prompt)\n",
    "print(response)"
   ]
  },
  {
   "cell_type": "code",
   "execution_count": 39,
   "id": "127c4a89",
   "metadata": {},
   "outputs": [
    {
     "name": "stdout",
     "output_type": "stream",
     "text": [
      "The report discusses various concepts related to production in microeconomics. The top 10 concepts are:\n",
      "\n",
      "1. Production Function: A production function is a mathematical representation of the relationship between inputs and outputs in the production process. It shows how much output can be produced from a given set of inputs. The production function can be represented as Q = f(K, L), where Q is the output, K is the capital input, and L is the labor input.\n",
      "\n",
      "2. Marginal Product: The marginal product is the additional output that can be produced by using one more unit of input while holding other inputs constant. It is calculated as the change in output divided by the change in input.\n",
      "\n",
      "3. Law of Diminishing Marginal Returns: The law of diminishing marginal returns states that as more and more units of a variable input are added to a fixed input, the marginal product of the variable input will eventually decrease.\n",
      "\n",
      "4. Isoquants: Isoquants are curves that represent all the combinations of inputs that can produce a given level of output. They are similar to indifference curves in consumer theory.\n",
      "\n",
      "5. Marginal Rate of Technical Substitution: The marginal rate of technical substitution (MRTS) is the rate at which one input can be substituted for another while holding output constant. It is calculated as the ratio of the marginal product of one input to the marginal product of the other input.\n",
      "\n",
      "6. Returns to Scale: Returns to scale refer to the relationship between the scale of production and the output. If the output increases proportionally more than the inputs when the scale of production is increased, it is called increasing returns to scale. If the output increases proportionally less than the inputs, it is called decreasing returns to scale. If the output increases proportionally to the inputs, it is called constant returns to scale.\n",
      "\n",
      "7. Long-Run Average Cost Curve: The long-run average cost (LRAC) curve shows the lowest average cost at which a firm can produce a given level of output in the long run. It is derived from the short-run average cost curves.\n",
      "\n",
      "8. Economies of Scale: Economies of scale refer to the cost advantages that a firm can achieve by increasing the scale of production. It can be due to technical, managerial, or financial factors.\n",
      "\n",
      "9. Diseconomies of Scale: Diseconomies of scale refer to the cost disadvantages that a firm can experience by increasing the scale of production. It can be due to coordination problems, communication problems, or bureaucratic inefficiencies.\n",
      "\n",
      "10. Minimum Efficient Scale: The minimum efficient scale (MES) is the smallest level of output at which a firm can produce at the lowest LRAC. It is the point where the LRAC curve reaches its minimum. The MES can vary depending on the industry and the technology used.\n",
      "\n",
      "Overall, these concepts are important for understanding the production process and the cost structure of firms. They can help firms make decisions about the optimal level of production and the most efficient use of resources.\n"
     ]
    }
   ],
   "source": [
    "# Summarize report 1\n",
    "\n",
    "prompt = f\"\"\"\n",
    "Given Report below in Chapter 6 - Production, highlight the top 10 concepts in detail. \\\n",
    "Include definitions or equations needed to understand the material at a very detailed level.\\ \n",
    "Provide an answer based on the Report below, delimited by triple backticks, in fewer than 1000 words.\n",
    "\n",
    "Report: ```{Report1}```\n",
    "\"\"\"\n",
    "\n",
    "response = get_completion(prompt)\n",
    "print(response)"
   ]
  },
  {
   "cell_type": "code",
   "execution_count": null,
   "id": "cad8591a",
   "metadata": {},
   "outputs": [],
   "source": [
    "# Everything below this is sample prompts to consider using"
   ]
  },
  {
   "cell_type": "code",
   "execution_count": 85,
   "id": "2deecd13",
   "metadata": {},
   "outputs": [
    {
     "name": "stdout",
     "output_type": "stream",
     "text": [
      "As an AI language model, I am not able to access the content of the file \"reader2.txt\". Please provide the content of the file so that I can assist you in analyzing the report and providing the top 10 takeaways.\n"
     ]
    }
   ],
   "source": [
    "# Summarize takeaways from Report 2\n",
    "\n",
    "prompt = f\"\"\"\n",
    "Analyze this report as a management professor. What are the top 10 takeaways from this report? \\\n",
    "Provide a response to this question from the report below, delimited by triple backticks in at most 500 words \\\n",
    "\n",
    "\n",
    "Review: ```{Report2}```\n",
    "\"\"\"\n",
    "\n",
    "response = get_completion(prompt)\n",
    "print(response)"
   ]
  },
  {
   "cell_type": "code",
   "execution_count": 20,
   "id": "3bbd2f81",
   "metadata": {},
   "outputs": [
    {
     "name": "stdout",
     "output_type": "stream",
     "text": [
      "As an AI language model, I cannot access the file \"reader1.txt\" as it is not provided. However, I can provide a general summary of the key points in chapter three on accounting for assets.\n",
      "\n",
      "Chapter three of an accounting textbook typically covers the accounting treatment of assets. The chapter begins by defining assets as resources that are owned or controlled by an entity and have the potential to provide future economic benefits. The chapter then goes on to discuss the different types of assets, including current assets, long-term assets, tangible assets, and intangible assets.\n",
      "\n",
      "The fundamentals of asset valuation are also covered in this chapter. The book explains that assets are typically valued at their historical cost, which is the amount paid to acquire the asset. However, assets may also be valued at fair value, which is the amount that the asset could be sold for in an arm's length transaction.\n",
      "\n",
      "The chapter also covers the accounting treatment of depreciation, which is the process of allocating the cost of a long-term asset over its useful life. The book explains that there are different methods of depreciation, including straight-line depreciation, declining balance depreciation, and units of production depreciation.\n",
      "\n",
      "Overall, chapter three of an accounting textbook provides a comprehensive overview of the accounting treatment of assets. It covers the different types of assets, the fundamentals of asset valuation, and the accounting treatment of depreciation.\n"
     ]
    }
   ],
   "source": [
    "# Summarize takeaways from Chapter 3 of report 1\n",
    "\n",
    "prompt = f\"\"\"\n",
    "Analyze this accounting textbook as an accounting professor. Summarize the key points in chapter three on accounting for assets. \\\n",
    "What are the fundamentals of asset valuation? \\\n",
    "Provide a response to this question from the report below, delimited by triple backticks in at most 1,000 words \\\n",
    "\n",
    "\n",
    "Review: ```{Report1}```\n",
    "\"\"\"\n",
    "\n",
    "response = get_completion(prompt)\n",
    "print(response)"
   ]
  },
  {
   "cell_type": "code",
   "execution_count": 30,
   "id": "2027555e",
   "metadata": {},
   "outputs": [
    {
     "name": "stdout",
     "output_type": "stream",
     "text": [
      "As an AI language model, I cannot access external files. However, I can provide a general summary of the key points in chapter four on accounting for liabilities.\n",
      "\n",
      "Chapter four of an accounting textbook covers the fundamentals of liability accounting. The chapter defines liabilities as obligations that a company owes to others and provides examples of common liabilities such as accounts payable, notes payable, and accrued expenses. The chapter also discusses the importance of accurately recording liabilities in financial statements to provide a clear picture of a company's financial health.\n",
      "\n",
      "The key points covered in the chapter include the following:\n",
      "\n",
      "1. Definition of liabilities: Liabilities are obligations that a company owes to others, including suppliers, lenders, and employees.\n",
      "\n",
      "2. Types of liabilities: Common types of liabilities include accounts payable, notes payable, accrued expenses, and long-term debt.\n",
      "\n",
      "3. Recognition of liabilities: Liabilities should be recognized in financial statements when they are incurred, regardless of when payment is due.\n",
      "\n",
      "4. Measurement of liabilities: Liabilities should be measured at their fair value, which is the amount that would be required to settle the obligation at the reporting date.\n",
      "\n",
      "5. Disclosure of liabilities: Companies should disclose information about their liabilities in the notes to the financial statements, including the nature of the liability, the amount owed, and any related terms and conditions.\n",
      "\n",
      "Overall, the chapter emphasizes the importance of accurately recording and disclosing liabilities in financial statements to provide a clear picture of a company's financial health.\n"
     ]
    }
   ],
   "source": [
    "# Summarize takeaways from Chapter 4 of report 1\n",
    "\n",
    "prompt = f\"\"\"\n",
    "Analyze this accounting textbook as an accounting professor. Summarize the key points in chapter four on accounting for liabilities. \\\n",
    "What are the fundamentals of liability accounting? \\\n",
    "Provide a response to this question from the report below, delimited by triple backticks in at most 1,000 words \\\n",
    "\n",
    "\n",
    "Review: ```{Report1}```\n",
    "\"\"\"\n",
    "\n",
    "response = get_completion(prompt)\n",
    "print(response)"
   ]
  },
  {
   "cell_type": "code",
   "execution_count": 27,
   "id": "b7765711",
   "metadata": {},
   "outputs": [
    {
     "name": "stdout",
     "output_type": "stream",
     "text": [
      "As an AI language model, I am not able to access the file \"reader1.txt\" as it is not provided in the prompt. However, I can provide a general summary of the key points in chapter four on accounting for equity.\n",
      "\n",
      "Chapter four of an accounting textbook typically covers the topic of accounting for equity. The chapter begins by defining equity as the residual interest in the assets of an entity after deducting liabilities. The chapter then goes on to explain the different types of equity, such as common stock, preferred stock, and retained earnings.\n",
      "\n",
      "The fundamentals of equity accounting include understanding the different types of equity, how to record equity transactions, and how to prepare the equity section of the balance sheet. The chapter also covers topics such as stock dividends, stock splits, and treasury stock.\n",
      "\n",
      "One of the key points in the chapter is the importance of understanding the different types of equity and their characteristics. For example, common stock represents ownership in the company and typically carries voting rights, while preferred stock represents a fixed dividend payment and may not carry voting rights.\n",
      "\n",
      "Another important concept covered in the chapter is the accounting treatment of equity transactions. For example, when a company issues new shares of stock, the transaction is recorded as an increase in both cash and the appropriate equity account. When a company repurchases its own shares of stock, the transaction is recorded as a decrease in both cash and the appropriate equity account.\n",
      "\n",
      "Overall, chapter four provides a comprehensive overview of accounting for equity and is essential reading for any accounting student or professional.\n"
     ]
    }
   ],
   "source": [
    "# Summarize takeaways from Chapter 5 of report 1\n",
    "\n",
    "prompt = f\"\"\"\n",
    "Analyze this accounting textbook as an accounting professor. Summarize the key points in chapter four on accounting for equity. \\\n",
    "What are the fundamentals of equity accounting? \\\n",
    "Provide a response to this question from the report below, delimited by triple backticks in at most 1,000 words \\\n",
    "\n",
    "\n",
    "Review: ```{Report1}```\n",
    "\"\"\"\n",
    "\n",
    "response = get_completion(prompt)\n",
    "print(response)"
   ]
  },
  {
   "cell_type": "code",
   "execution_count": 92,
   "id": "bc487046",
   "metadata": {},
   "outputs": [
    {
     "name": "stdout",
     "output_type": "stream",
     "text": [
      "The report provides an overview of the electricity markets in the United States, with a focus on the Federal Energy Regulatory Commission (FERC) and its role in regulating these markets. Here are the top 10 key takeaways from the report:\n",
      "\n",
      "1. The electricity industry is complex and involves multiple players, including generators, transmission companies, and distribution companies.\n",
      "2. FERC is responsible for regulating the wholesale electricity markets, which involve the buying and selling of electricity between generators and utilities.\n",
      "3. FERC's role is to ensure that these markets are competitive and transparent, and that prices are just and reasonable.\n",
      "4. FERC also oversees the reliability of the electric grid, working with regional grid operators to ensure that there is enough electricity to meet demand at all times.\n",
      "5. The report discusses the different types of electricity markets, including day-ahead and real-time markets, as well as capacity markets, which ensure that there is enough generation capacity available to meet future demand.\n",
      "6. FERC has implemented a number of market reforms over the years, including the creation of regional transmission organizations (RTOs) and independent system operators (ISOs) to manage the grid and oversee the markets.\n",
      "7. The report also discusses the role of renewable energy in the electricity markets, including the growth of wind and solar power and the challenges of integrating these resources into the grid.\n",
      "8. FERC has also been involved in addressing cybersecurity threats to the electric grid, working with other government agencies and industry stakeholders to develop standards and best practices.\n",
      "9. The report notes that FERC's authority over the electricity markets has been challenged in recent years, with some arguing that states should have more control over their own energy policies.\n",
      "10. Finally, the report discusses some of the ongoing debates and challenges facing the electricity industry, including the need for infrastructure investment, the impact of new technologies like energy storage, and the potential for new federal policies to address climate change.\n"
     ]
    }
   ],
   "source": [
    "# Summarize report 2\n",
    "\n",
    "prompt = f\"\"\"\n",
    "Tell me how this report is structured. \\\n",
    "\n",
    "\n",
    "Summarize the report below, delimited by triple \n",
    "backticks, in at most 400 words. \n",
    "\n",
    "Review: ```{Report2}```\n",
    "\"\"\"\n",
    "\n",
    "response = get_completion(prompt)\n",
    "print(response)"
   ]
  },
  {
   "cell_type": "code",
   "execution_count": 5,
   "id": "491fb625",
   "metadata": {},
   "outputs": [
    {
     "name": "stdout",
     "output_type": "stream",
     "text": [
      "The panda plush toy arrived a day earlier than expected, but the customer felt it was a bit small for the price paid.\n"
     ]
    }
   ],
   "source": [
    "# Summarize with focus on shipping and delivery\n",
    "\n",
    "prompt = f\"\"\"\n",
    "Your task is to generate a short summary of a product \\\n",
    "review from an ecommerce site to give feedback to the \\\n",
    "Shipping deparmtment. \n",
    "\n",
    "Summarize the review below, delimited by triple \n",
    "backticks, in at most 30 words, and focusing on any aspects \\\n",
    "that mention shipping and delivery of the product. \n",
    "\n",
    "Review: ```{prod_review}```\n",
    "\"\"\"\n",
    "\n",
    "response = get_completion(prompt)\n",
    "print(response)"
   ]
  },
  {
   "cell_type": "code",
   "execution_count": 6,
   "id": "db2738b3",
   "metadata": {},
   "outputs": [
    {
     "name": "stdout",
     "output_type": "stream",
     "text": [
      "The panda plush toy is soft, cute, and loved by the recipient, but the price may be too high for its size compared to other options.\n"
     ]
    }
   ],
   "source": [
    "# Summarize with focus on price and value\n",
    "\n",
    "prompt = f\"\"\"\n",
    "Your task is to generate a short summary of a product \\\n",
    "review from an ecommerce site to give feedback to the \\\n",
    "pricing deparmtment, responsible for determining the \\\n",
    "price of the product.  \n",
    "\n",
    "Summarize the review below, delimited by triple \n",
    "backticks, in at most 30 words, and focusing on any aspects \\\n",
    "that are relevant to the price and perceived value. \n",
    "\n",
    "Review: ```{prod_review}```\n",
    "\"\"\"\n",
    "\n",
    "response = get_completion(prompt)\n",
    "print(response)"
   ]
  },
  {
   "cell_type": "code",
   "execution_count": 8,
   "id": "d782a75b",
   "metadata": {},
   "outputs": [
    {
     "name": "stdout",
     "output_type": "stream",
     "text": [
      "The product arrived a day earlier than expected.\n"
     ]
    }
   ],
   "source": [
    "# Try 'extract' instead of 'summarize'\n",
    "prompt = f\"\"\"\n",
    "Your task is to extract relevant information from \\ \n",
    "a product review from an ecommerce site to give \\\n",
    "feedback to the Shipping department. \n",
    "\n",
    "From the review below, delimited by triple quotes \\\n",
    "extract the information relevant to shipping and \\ \n",
    "delivery. Limit to 30 words. \n",
    "\n",
    "Review: ```{prod_review}```\n",
    "\"\"\"\n",
    "\n",
    "response = get_completion(prompt)\n",
    "print(response)"
   ]
  },
  {
   "cell_type": "code",
   "execution_count": 9,
   "id": "5e91bb32",
   "metadata": {},
   "outputs": [],
   "source": [
    "# Summarize multiple product reviews\n",
    "\n",
    "review_1 = prod_review \n",
    "\n",
    "# review for a standing lamp\n",
    "review_2 = \"\"\"\n",
    "Needed a nice lamp for my bedroom, and this one \\\n",
    "had additional storage and not too high of a price \\\n",
    "point. Got it fast - arrived in 2 days. The string \\\n",
    "to the lamp broke during the transit and the company \\\n",
    "happily sent over a new one. Came within a few days \\\n",
    "as well. It was easy to put together. Then I had a \\\n",
    "missing part, so I contacted their support and they \\\n",
    "very quickly got me the missing piece! Seems to me \\\n",
    "to be a great company that cares about their customers \\\n",
    "and products. \n",
    "\"\"\"\n",
    "\n",
    "# review for an electric toothbrush\n",
    "review_3 = \"\"\"\n",
    "My dental hygienist recommended an electric toothbrush, \\\n",
    "which is why I got this. The battery life seems to be \\\n",
    "pretty impressive so far. After initial charging and \\\n",
    "leaving the charger plugged in for the first week to \\\n",
    "condition the battery, I've unplugged the charger and \\\n",
    "been using it for twice daily brushing for the last \\\n",
    "3 weeks all on the same charge. But the toothbrush head \\\n",
    "is too small. I’ve seen baby toothbrushes bigger than \\\n",
    "this one. I wish the head was bigger with different \\\n",
    "length bristles to get between teeth better because \\\n",
    "this one doesn’t.  Overall if you can get this one \\\n",
    "around the $50 mark, it's a good deal. The manufactuer's \\\n",
    "replacements heads are pretty expensive, but you can \\\n",
    "get generic ones that're more reasonably priced. This \\\n",
    "toothbrush makes me feel like I've been to the dentist \\\n",
    "every day. My teeth feel sparkly clean! \n",
    "\"\"\"\n",
    "\n",
    "# review for a blender\n",
    "review_4 = \"\"\"\n",
    "So, they still had the 17 piece system on seasonal \\\n",
    "sale for around $49 in the month of November, about \\\n",
    "half off, but for some reason (call it price gouging) \\\n",
    "around the second week of December the prices all went \\\n",
    "up to about anywhere from between $70-$89 for the same \\\n",
    "system. And the 11 piece system went up around $10 or \\\n",
    "so in price also from the earlier sale price of $29. \\\n",
    "So it looks okay, but if you look at the base, the part \\\n",
    "where the blade locks into place doesn’t look as good \\\n",
    "as in previous editions from a few years ago, but I \\\n",
    "plan to be very gentle with it (example, I crush \\\n",
    "very hard items like beans, ice, rice, etc. in the \\ \n",
    "blender first then pulverize them in the serving size \\\n",
    "I want in the blender then switch to the whipping \\\n",
    "blade for a finer flour, and use the cross cutting blade \\\n",
    "first when making smoothies, then use the flat blade \\\n",
    "if I need them finer/less pulpy). Special tip when making \\\n",
    "smoothies, finely cut and freeze the fruits and \\\n",
    "vegetables (if using spinach-lightly stew soften the \\ \n",
    "spinach then freeze until ready for use-and if making \\\n",
    "sorbet, use a small to medium sized food processor) \\ \n",
    "that you plan to use that way you can avoid adding so \\\n",
    "much ice if at all-when making your smoothie. \\\n",
    "After about a year, the motor was making a funny noise. \\\n",
    "I called customer service but the warranty expired \\\n",
    "already, so I had to buy another one. FYI: The overall \\\n",
    "quality has gone done in these types of products, so \\\n",
    "they are kind of counting on brand recognition and \\\n",
    "consumer loyalty to maintain sales. Got it in about \\\n",
    "two days.\n",
    "\"\"\"\n",
    "\n",
    "reviews = [review_1, review_2, review_3, review_4]\n",
    "\n",
    "\n",
    "\n"
   ]
  },
  {
   "cell_type": "code",
   "execution_count": 11,
   "id": "fc6fac03",
   "metadata": {},
   "outputs": [
    {
     "name": "stdout",
     "output_type": "stream",
     "text": [
      "0 Soft and cute panda plush toy loved by daughter, but a bit small for the price. Arrived early. \n",
      "\n",
      "1 Affordable lamp with storage, fast shipping, and excellent customer service. Easy to assemble and missing parts were quickly replaced. \n",
      "\n",
      "2 Good battery life, small toothbrush head, but effective cleaning. Good deal if bought around $50. \n",
      "\n"
     ]
    },
    {
     "ename": "RateLimitError",
     "evalue": "Rate limit reached for default-gpt-3.5-turbo in organization org-0QB3BCHxO2VYRI58a5rutnKr on requests per min. Limit: 3 / min. Please try again in 20s. Contact support@openai.com if you continue to have issues. Please add a payment method to your account to increase your rate limit. Visit https://platform.openai.com/account/billing to add a payment method.",
     "output_type": "error",
     "traceback": [
      "\u001b[1;31m---------------------------------------------------------------------------\u001b[0m",
      "\u001b[1;31mRateLimitError\u001b[0m                            Traceback (most recent call last)",
      "Cell \u001b[1;32mIn[11], line 12\u001b[0m\n\u001b[0;32m      1\u001b[0m \u001b[38;5;28;01mfor\u001b[39;00m i \u001b[38;5;129;01min\u001b[39;00m \u001b[38;5;28mrange\u001b[39m(\u001b[38;5;28mlen\u001b[39m(reviews)):\n\u001b[0;32m      2\u001b[0m     prompt \u001b[38;5;241m=\u001b[39m \u001b[38;5;124mf\u001b[39m\u001b[38;5;124m\"\"\"\u001b[39m\n\u001b[0;32m      3\u001b[0m \u001b[38;5;124m    Your task is to generate a short summary of a product \u001b[39m\u001b[38;5;124m\\\u001b[39m\u001b[38;5;124m \u001b[39m\n\u001b[0;32m      4\u001b[0m \u001b[38;5;124m    review from an ecommerce site. \u001b[39m\n\u001b[1;32m   (...)\u001b[0m\n\u001b[0;32m      9\u001b[0m \u001b[38;5;124m    Review: ```\u001b[39m\u001b[38;5;132;01m{\u001b[39;00mreviews[i]\u001b[38;5;132;01m}\u001b[39;00m\u001b[38;5;124m```\u001b[39m\n\u001b[0;32m     10\u001b[0m \u001b[38;5;124m    \u001b[39m\u001b[38;5;124m\"\"\"\u001b[39m\n\u001b[1;32m---> 12\u001b[0m     response \u001b[38;5;241m=\u001b[39m \u001b[43mget_completion\u001b[49m\u001b[43m(\u001b[49m\u001b[43mprompt\u001b[49m\u001b[43m)\u001b[49m\n\u001b[0;32m     13\u001b[0m     \u001b[38;5;28mprint\u001b[39m(i, response, \u001b[38;5;124m\"\u001b[39m\u001b[38;5;130;01m\\n\u001b[39;00m\u001b[38;5;124m\"\u001b[39m)\n",
      "Cell \u001b[1;32mIn[2], line 3\u001b[0m, in \u001b[0;36mget_completion\u001b[1;34m(prompt, model)\u001b[0m\n\u001b[0;32m      1\u001b[0m \u001b[38;5;28;01mdef\u001b[39;00m \u001b[38;5;21mget_completion\u001b[39m(prompt, model\u001b[38;5;241m=\u001b[39m\u001b[38;5;124m\"\u001b[39m\u001b[38;5;124mgpt-3.5-turbo\u001b[39m\u001b[38;5;124m\"\u001b[39m):\n\u001b[0;32m      2\u001b[0m     messages \u001b[38;5;241m=\u001b[39m [{\u001b[38;5;124m\"\u001b[39m\u001b[38;5;124mrole\u001b[39m\u001b[38;5;124m\"\u001b[39m: \u001b[38;5;124m\"\u001b[39m\u001b[38;5;124muser\u001b[39m\u001b[38;5;124m\"\u001b[39m, \u001b[38;5;124m\"\u001b[39m\u001b[38;5;124mcontent\u001b[39m\u001b[38;5;124m\"\u001b[39m: prompt}]\n\u001b[1;32m----> 3\u001b[0m     response \u001b[38;5;241m=\u001b[39m \u001b[43mopenai\u001b[49m\u001b[38;5;241;43m.\u001b[39;49m\u001b[43mChatCompletion\u001b[49m\u001b[38;5;241;43m.\u001b[39;49m\u001b[43mcreate\u001b[49m\u001b[43m(\u001b[49m\n\u001b[0;32m      4\u001b[0m \u001b[43m        \u001b[49m\u001b[43mmodel\u001b[49m\u001b[38;5;241;43m=\u001b[39;49m\u001b[43mmodel\u001b[49m\u001b[43m,\u001b[49m\n\u001b[0;32m      5\u001b[0m \u001b[43m        \u001b[49m\u001b[43mmessages\u001b[49m\u001b[38;5;241;43m=\u001b[39;49m\u001b[43mmessages\u001b[49m\u001b[43m,\u001b[49m\n\u001b[0;32m      6\u001b[0m \u001b[43m        \u001b[49m\u001b[43mtemperature\u001b[49m\u001b[38;5;241;43m=\u001b[39;49m\u001b[38;5;241;43m0\u001b[39;49m\u001b[43m,\u001b[49m\u001b[43m \u001b[49m\u001b[38;5;66;43;03m# this is the degree of randomness of the model's output\u001b[39;49;00m\n\u001b[0;32m      7\u001b[0m \u001b[43m    \u001b[49m\u001b[43m)\u001b[49m\n\u001b[0;32m      8\u001b[0m     \u001b[38;5;28;01mreturn\u001b[39;00m response\u001b[38;5;241m.\u001b[39mchoices[\u001b[38;5;241m0\u001b[39m]\u001b[38;5;241m.\u001b[39mmessage[\u001b[38;5;124m\"\u001b[39m\u001b[38;5;124mcontent\u001b[39m\u001b[38;5;124m\"\u001b[39m]\n",
      "File \u001b[1;32m~\\miniconda3\\lib\\site-packages\\openai\\api_resources\\chat_completion.py:25\u001b[0m, in \u001b[0;36mChatCompletion.create\u001b[1;34m(cls, *args, **kwargs)\u001b[0m\n\u001b[0;32m     23\u001b[0m \u001b[38;5;28;01mwhile\u001b[39;00m \u001b[38;5;28;01mTrue\u001b[39;00m:\n\u001b[0;32m     24\u001b[0m     \u001b[38;5;28;01mtry\u001b[39;00m:\n\u001b[1;32m---> 25\u001b[0m         \u001b[38;5;28;01mreturn\u001b[39;00m \u001b[38;5;28msuper\u001b[39m()\u001b[38;5;241m.\u001b[39mcreate(\u001b[38;5;241m*\u001b[39margs, \u001b[38;5;241m*\u001b[39m\u001b[38;5;241m*\u001b[39mkwargs)\n\u001b[0;32m     26\u001b[0m     \u001b[38;5;28;01mexcept\u001b[39;00m TryAgain \u001b[38;5;28;01mas\u001b[39;00m e:\n\u001b[0;32m     27\u001b[0m         \u001b[38;5;28;01mif\u001b[39;00m timeout \u001b[38;5;129;01mis\u001b[39;00m \u001b[38;5;129;01mnot\u001b[39;00m \u001b[38;5;28;01mNone\u001b[39;00m \u001b[38;5;129;01mand\u001b[39;00m time\u001b[38;5;241m.\u001b[39mtime() \u001b[38;5;241m>\u001b[39m start \u001b[38;5;241m+\u001b[39m timeout:\n",
      "File \u001b[1;32m~\\miniconda3\\lib\\site-packages\\openai\\api_resources\\abstract\\engine_api_resource.py:153\u001b[0m, in \u001b[0;36mEngineAPIResource.create\u001b[1;34m(cls, api_key, api_base, api_type, request_id, api_version, organization, **params)\u001b[0m\n\u001b[0;32m    127\u001b[0m \u001b[38;5;129m@classmethod\u001b[39m\n\u001b[0;32m    128\u001b[0m \u001b[38;5;28;01mdef\u001b[39;00m \u001b[38;5;21mcreate\u001b[39m(\n\u001b[0;32m    129\u001b[0m     \u001b[38;5;28mcls\u001b[39m,\n\u001b[1;32m   (...)\u001b[0m\n\u001b[0;32m    136\u001b[0m     \u001b[38;5;241m*\u001b[39m\u001b[38;5;241m*\u001b[39mparams,\n\u001b[0;32m    137\u001b[0m ):\n\u001b[0;32m    138\u001b[0m     (\n\u001b[0;32m    139\u001b[0m         deployment_id,\n\u001b[0;32m    140\u001b[0m         engine,\n\u001b[1;32m   (...)\u001b[0m\n\u001b[0;32m    150\u001b[0m         api_key, api_base, api_type, api_version, organization, \u001b[38;5;241m*\u001b[39m\u001b[38;5;241m*\u001b[39mparams\n\u001b[0;32m    151\u001b[0m     )\n\u001b[1;32m--> 153\u001b[0m     response, _, api_key \u001b[38;5;241m=\u001b[39m \u001b[43mrequestor\u001b[49m\u001b[38;5;241;43m.\u001b[39;49m\u001b[43mrequest\u001b[49m\u001b[43m(\u001b[49m\n\u001b[0;32m    154\u001b[0m \u001b[43m        \u001b[49m\u001b[38;5;124;43m\"\u001b[39;49m\u001b[38;5;124;43mpost\u001b[39;49m\u001b[38;5;124;43m\"\u001b[39;49m\u001b[43m,\u001b[49m\n\u001b[0;32m    155\u001b[0m \u001b[43m        \u001b[49m\u001b[43murl\u001b[49m\u001b[43m,\u001b[49m\n\u001b[0;32m    156\u001b[0m \u001b[43m        \u001b[49m\u001b[43mparams\u001b[49m\u001b[38;5;241;43m=\u001b[39;49m\u001b[43mparams\u001b[49m\u001b[43m,\u001b[49m\n\u001b[0;32m    157\u001b[0m \u001b[43m        \u001b[49m\u001b[43mheaders\u001b[49m\u001b[38;5;241;43m=\u001b[39;49m\u001b[43mheaders\u001b[49m\u001b[43m,\u001b[49m\n\u001b[0;32m    158\u001b[0m \u001b[43m        \u001b[49m\u001b[43mstream\u001b[49m\u001b[38;5;241;43m=\u001b[39;49m\u001b[43mstream\u001b[49m\u001b[43m,\u001b[49m\n\u001b[0;32m    159\u001b[0m \u001b[43m        \u001b[49m\u001b[43mrequest_id\u001b[49m\u001b[38;5;241;43m=\u001b[39;49m\u001b[43mrequest_id\u001b[49m\u001b[43m,\u001b[49m\n\u001b[0;32m    160\u001b[0m \u001b[43m        \u001b[49m\u001b[43mrequest_timeout\u001b[49m\u001b[38;5;241;43m=\u001b[39;49m\u001b[43mrequest_timeout\u001b[49m\u001b[43m,\u001b[49m\n\u001b[0;32m    161\u001b[0m \u001b[43m    \u001b[49m\u001b[43m)\u001b[49m\n\u001b[0;32m    163\u001b[0m     \u001b[38;5;28;01mif\u001b[39;00m stream:\n\u001b[0;32m    164\u001b[0m         \u001b[38;5;66;03m# must be an iterator\u001b[39;00m\n\u001b[0;32m    165\u001b[0m         \u001b[38;5;28;01massert\u001b[39;00m \u001b[38;5;129;01mnot\u001b[39;00m \u001b[38;5;28misinstance\u001b[39m(response, OpenAIResponse)\n",
      "File \u001b[1;32m~\\miniconda3\\lib\\site-packages\\openai\\api_requestor.py:226\u001b[0m, in \u001b[0;36mAPIRequestor.request\u001b[1;34m(self, method, url, params, headers, files, stream, request_id, request_timeout)\u001b[0m\n\u001b[0;32m    205\u001b[0m \u001b[38;5;28;01mdef\u001b[39;00m \u001b[38;5;21mrequest\u001b[39m(\n\u001b[0;32m    206\u001b[0m     \u001b[38;5;28mself\u001b[39m,\n\u001b[0;32m    207\u001b[0m     method,\n\u001b[1;32m   (...)\u001b[0m\n\u001b[0;32m    214\u001b[0m     request_timeout: Optional[Union[\u001b[38;5;28mfloat\u001b[39m, Tuple[\u001b[38;5;28mfloat\u001b[39m, \u001b[38;5;28mfloat\u001b[39m]]] \u001b[38;5;241m=\u001b[39m \u001b[38;5;28;01mNone\u001b[39;00m,\n\u001b[0;32m    215\u001b[0m ) \u001b[38;5;241m-\u001b[39m\u001b[38;5;241m>\u001b[39m Tuple[Union[OpenAIResponse, Iterator[OpenAIResponse]], \u001b[38;5;28mbool\u001b[39m, \u001b[38;5;28mstr\u001b[39m]:\n\u001b[0;32m    216\u001b[0m     result \u001b[38;5;241m=\u001b[39m \u001b[38;5;28mself\u001b[39m\u001b[38;5;241m.\u001b[39mrequest_raw(\n\u001b[0;32m    217\u001b[0m         method\u001b[38;5;241m.\u001b[39mlower(),\n\u001b[0;32m    218\u001b[0m         url,\n\u001b[1;32m   (...)\u001b[0m\n\u001b[0;32m    224\u001b[0m         request_timeout\u001b[38;5;241m=\u001b[39mrequest_timeout,\n\u001b[0;32m    225\u001b[0m     )\n\u001b[1;32m--> 226\u001b[0m     resp, got_stream \u001b[38;5;241m=\u001b[39m \u001b[38;5;28;43mself\u001b[39;49m\u001b[38;5;241;43m.\u001b[39;49m\u001b[43m_interpret_response\u001b[49m\u001b[43m(\u001b[49m\u001b[43mresult\u001b[49m\u001b[43m,\u001b[49m\u001b[43m \u001b[49m\u001b[43mstream\u001b[49m\u001b[43m)\u001b[49m\n\u001b[0;32m    227\u001b[0m     \u001b[38;5;28;01mreturn\u001b[39;00m resp, got_stream, \u001b[38;5;28mself\u001b[39m\u001b[38;5;241m.\u001b[39mapi_key\n",
      "File \u001b[1;32m~\\miniconda3\\lib\\site-packages\\openai\\api_requestor.py:620\u001b[0m, in \u001b[0;36mAPIRequestor._interpret_response\u001b[1;34m(self, result, stream)\u001b[0m\n\u001b[0;32m    612\u001b[0m     \u001b[38;5;28;01mreturn\u001b[39;00m (\n\u001b[0;32m    613\u001b[0m         \u001b[38;5;28mself\u001b[39m\u001b[38;5;241m.\u001b[39m_interpret_response_line(\n\u001b[0;32m    614\u001b[0m             line, result\u001b[38;5;241m.\u001b[39mstatus_code, result\u001b[38;5;241m.\u001b[39mheaders, stream\u001b[38;5;241m=\u001b[39m\u001b[38;5;28;01mTrue\u001b[39;00m\n\u001b[0;32m    615\u001b[0m         )\n\u001b[0;32m    616\u001b[0m         \u001b[38;5;28;01mfor\u001b[39;00m line \u001b[38;5;129;01min\u001b[39;00m parse_stream(result\u001b[38;5;241m.\u001b[39miter_lines())\n\u001b[0;32m    617\u001b[0m     ), \u001b[38;5;28;01mTrue\u001b[39;00m\n\u001b[0;32m    618\u001b[0m \u001b[38;5;28;01melse\u001b[39;00m:\n\u001b[0;32m    619\u001b[0m     \u001b[38;5;28;01mreturn\u001b[39;00m (\n\u001b[1;32m--> 620\u001b[0m         \u001b[38;5;28;43mself\u001b[39;49m\u001b[38;5;241;43m.\u001b[39;49m\u001b[43m_interpret_response_line\u001b[49m\u001b[43m(\u001b[49m\n\u001b[0;32m    621\u001b[0m \u001b[43m            \u001b[49m\u001b[43mresult\u001b[49m\u001b[38;5;241;43m.\u001b[39;49m\u001b[43mcontent\u001b[49m\u001b[38;5;241;43m.\u001b[39;49m\u001b[43mdecode\u001b[49m\u001b[43m(\u001b[49m\u001b[38;5;124;43m\"\u001b[39;49m\u001b[38;5;124;43mutf-8\u001b[39;49m\u001b[38;5;124;43m\"\u001b[39;49m\u001b[43m)\u001b[49m\u001b[43m,\u001b[49m\n\u001b[0;32m    622\u001b[0m \u001b[43m            \u001b[49m\u001b[43mresult\u001b[49m\u001b[38;5;241;43m.\u001b[39;49m\u001b[43mstatus_code\u001b[49m\u001b[43m,\u001b[49m\n\u001b[0;32m    623\u001b[0m \u001b[43m            \u001b[49m\u001b[43mresult\u001b[49m\u001b[38;5;241;43m.\u001b[39;49m\u001b[43mheaders\u001b[49m\u001b[43m,\u001b[49m\n\u001b[0;32m    624\u001b[0m \u001b[43m            \u001b[49m\u001b[43mstream\u001b[49m\u001b[38;5;241;43m=\u001b[39;49m\u001b[38;5;28;43;01mFalse\u001b[39;49;00m\u001b[43m,\u001b[49m\n\u001b[0;32m    625\u001b[0m \u001b[43m        \u001b[49m\u001b[43m)\u001b[49m,\n\u001b[0;32m    626\u001b[0m         \u001b[38;5;28;01mFalse\u001b[39;00m,\n\u001b[0;32m    627\u001b[0m     )\n",
      "File \u001b[1;32m~\\miniconda3\\lib\\site-packages\\openai\\api_requestor.py:683\u001b[0m, in \u001b[0;36mAPIRequestor._interpret_response_line\u001b[1;34m(self, rbody, rcode, rheaders, stream)\u001b[0m\n\u001b[0;32m    681\u001b[0m stream_error \u001b[38;5;241m=\u001b[39m stream \u001b[38;5;129;01mand\u001b[39;00m \u001b[38;5;124m\"\u001b[39m\u001b[38;5;124merror\u001b[39m\u001b[38;5;124m\"\u001b[39m \u001b[38;5;129;01min\u001b[39;00m resp\u001b[38;5;241m.\u001b[39mdata\n\u001b[0;32m    682\u001b[0m \u001b[38;5;28;01mif\u001b[39;00m stream_error \u001b[38;5;129;01mor\u001b[39;00m \u001b[38;5;129;01mnot\u001b[39;00m \u001b[38;5;241m200\u001b[39m \u001b[38;5;241m<\u001b[39m\u001b[38;5;241m=\u001b[39m rcode \u001b[38;5;241m<\u001b[39m \u001b[38;5;241m300\u001b[39m:\n\u001b[1;32m--> 683\u001b[0m     \u001b[38;5;28;01mraise\u001b[39;00m \u001b[38;5;28mself\u001b[39m\u001b[38;5;241m.\u001b[39mhandle_error_response(\n\u001b[0;32m    684\u001b[0m         rbody, rcode, resp\u001b[38;5;241m.\u001b[39mdata, rheaders, stream_error\u001b[38;5;241m=\u001b[39mstream_error\n\u001b[0;32m    685\u001b[0m     )\n\u001b[0;32m    686\u001b[0m \u001b[38;5;28;01mreturn\u001b[39;00m resp\n",
      "\u001b[1;31mRateLimitError\u001b[0m: Rate limit reached for default-gpt-3.5-turbo in organization org-0QB3BCHxO2VYRI58a5rutnKr on requests per min. Limit: 3 / min. Please try again in 20s. Contact support@openai.com if you continue to have issues. Please add a payment method to your account to increase your rate limit. Visit https://platform.openai.com/account/billing to add a payment method."
     ]
    }
   ],
   "source": [
    "for i in range(len(reviews)):\n",
    "    prompt = f\"\"\"\n",
    "    Your task is to generate a short summary of a product \\ \n",
    "    review from an ecommerce site. \n",
    "\n",
    "    Summarize the review below, delimited by triple \\\n",
    "    backticks in at most 20 words. \n",
    "\n",
    "    Review: ```{reviews[i]}```\n",
    "    \"\"\"\n",
    "\n",
    "    response = get_completion(prompt)\n",
    "    print(i, response, \"\\n\")"
   ]
  },
  {
   "cell_type": "code",
   "execution_count": null,
   "id": "70f33175",
   "metadata": {},
   "outputs": [],
   "source": []
  }
 ],
 "metadata": {
  "kernelspec": {
   "display_name": "Python 3 (ipykernel)",
   "language": "python",
   "name": "python3"
  },
  "language_info": {
   "codemirror_mode": {
    "name": "ipython",
    "version": 3
   },
   "file_extension": ".py",
   "mimetype": "text/x-python",
   "name": "python",
   "nbconvert_exporter": "python",
   "pygments_lexer": "ipython3",
   "version": "3.10.8"
  }
 },
 "nbformat": 4,
 "nbformat_minor": 5
}
