{
 "cells": [
  {
   "cell_type": "code",
   "execution_count": 18,
   "id": "30924a70",
   "metadata": {},
   "outputs": [],
   "source": [
    "# This script will summarize information from two reports on electricity markets\n",
    "import openai\n",
    "import PyPDF2\n",
    "from pathlib import Path\n",
    "from PyPDF2 import PdfReader\n",
    "\n",
    "# Use your own API key here in between the quotations\n",
    "\n",
    "openai.api_key= \"YOUR API KEY\"\n",
    "\n",
    "# Filepath pointing to where PDFs sit\n",
    "DataFolder = Path(\"XXX/\")\n",
    "\n",
    "# Point to the reports\n",
    "Report1 = \"XXX/XXX.pdf\"\n",
    "\n"
   ]
  },
  {
   "cell_type": "code",
   "execution_count": 19,
   "id": "76f044e1",
   "metadata": {},
   "outputs": [
    {
     "name": "stdout",
     "output_type": "stream",
     "text": [
      "1192\n",
      "150\n"
     ]
    }
   ],
   "source": [
    "# Create PDF reader objects\n",
    "reader1 = PyPDF2.PdfReader(Report1)\n",
    "\n",
    "# Check page count\n",
    "print(len(reader1.pages))\n"
   ]
  },
  {
   "cell_type": "code",
   "execution_count": 20,
   "id": "f862467a",
   "metadata": {},
   "outputs": [],
   "source": [
    "# Extract text of reader1 and input into .TXT file for prompt input\n",
    "\n",
    "with open(\"reader1.txt\", \"a\", encoding = \"UTF-8\") as R1:\n",
    "\n",
    "    for i in range(len(reader1.pages)):\n",
    "        print(reader1.pages[i].extract_text(), file = R1)\n",
    "    "
   ]
  },
  {
   "cell_type": "code",
   "execution_count": 21,
   "id": "f6b9dcaf",
   "metadata": {},
   "outputs": [],
   "source": [
    "# Define helper function \n",
    "def get_completion(prompt, model=\"gpt-3.5-turbo\"):\n",
    "    messages = [{\"role\": \"user\", \"content\": prompt}]\n",
    "    response = openai.ChatCompletion.create(\n",
    "        model=model,\n",
    "        messages=messages,\n",
    "        temperature=0, # this is the degree of randomness of the model's output\n",
    "    )\n",
    "    return response.choices[0].message[\"content\"]"
   ]
  },
  {
   "cell_type": "code",
   "execution_count": 33,
   "id": "d597a206",
   "metadata": {},
   "outputs": [],
   "source": [
    "Report1 = \"reader1.txt\""
   ]
  },
  {
   "cell_type": "code",
   "execution_count": 31,
   "id": "5a1a3690",
   "metadata": {},
   "outputs": [
    {
     "name": "stdout",
     "output_type": "stream",
     "text": [
      "The accounting textbook consists of several chapters that cover various aspects of accounting. The main chapters are:\n",
      "\n",
      "1. Introduction to Accounting: This chapter provides an overview of accounting and its importance in business. It covers the basic principles of accounting, the different types of accounting, and the role of accounting in decision-making.\n",
      "\n",
      "2. Financial Statements: This chapter explains the different financial statements that companies prepare, including the balance sheet, income statement, and cash flow statement. It also covers the purpose of each statement and how they are used to evaluate a company's financial performance.\n",
      "\n",
      "3. Accounting for Assets: This chapter focuses on the accounting treatment of assets, including current assets, long-term assets, and intangible assets. It covers the different methods of valuing assets, such as historical cost and fair value, and how to account for depreciation and amortization.\n",
      "\n",
      "4. Accounting for Liabilities: This chapter covers the accounting treatment of liabilities, including current liabilities, long-term liabilities, and contingencies. It explains how to calculate and record interest expense and how to account for bonds and leases.\n",
      "\n",
      "5. Accounting for Equity: This chapter explains the different types of equity, such as common stock and preferred stock, and how to account for stock issuances and dividends. It also covers the accounting treatment of treasury stock and stock options.\n",
      "\n",
      "6. Financial Statement Analysis: This chapter covers the different methods of financial statement analysis, including ratio analysis and trend analysis. It explains how to use financial ratios to evaluate a company's liquidity, profitability, and solvency.\n",
      "\n",
      "Overall, the key takeaways from each chapter are:\n",
      "\n",
      "- Introduction to Accounting: Accounting is important for businesses to track their financial performance and make informed decisions. There are different types of accounting, such as financial accounting and managerial accounting.\n",
      "\n",
      "- Financial Statements: Financial statements provide information about a company's financial performance and position. The balance sheet shows a company's assets, liabilities, and equity, while the income statement shows its revenues and expenses. The cash flow statement shows the inflows and outflows of cash.\n",
      "\n",
      "- Accounting for Assets: Assets are resources that a company owns and uses to generate revenue. They can be tangible, such as property and equipment, or intangible, such as patents and trademarks. Depreciation and amortization are used to allocate the cost of assets over their useful lives.\n",
      "\n",
      "- Accounting for Liabilities: Liabilities are obligations that a company owes to others, such as loans and accounts payable. Interest expense is recorded when a company borrows money, and bonds and leases are accounted for using specific methods.\n",
      "\n",
      "- Accounting for Equity: Equity represents the ownership interest in a company. Stock issuances and dividends affect equity, and treasury stock and stock options are also accounted for.\n",
      "\n",
      "- Financial Statement Analysis: Financial ratios can be used to evaluate a company's liquidity, profitability, and solvency. Trend analysis can show how a company's financial performance has changed over time.\n"
     ]
    }
   ],
   "source": [
    "# Summarize report 1\n",
    "\n",
    "prompt = f\"\"\"\n",
    "Analyze this accounting textbook. What are the main chapters? Summarize the key takeaways from each chapter \\\n",
    "from the report below, delimited by triple backticks in at most 1,000 words \\\n",
    "\n",
    "\n",
    "Review: ```{Report1}```\n",
    "\"\"\"\n",
    "\n",
    "response = get_completion(prompt)\n",
    "print(response)"
   ]
  },
  {
   "cell_type": "code",
   "execution_count": 24,
   "id": "2deecd13",
   "metadata": {},
   "outputs": [
    {
     "name": "stdout",
     "output_type": "stream",
     "text": [
      "As an accounting professor, I have analyzed the textbook provided in `reader1.txt`. The textbook provides a comprehensive overview of the three primary financial statements: the balance sheet, the income statement, and the cash flow statement. \n",
      "\n",
      "The three financial statements are related in that they provide different perspectives on a company's financial performance. The balance sheet provides a snapshot of a company's financial position at a specific point in time, while the income statement shows a company's financial performance over a period of time. The cash flow statement shows how a company's cash position has changed over a period of time. \n",
      "\n",
      "The balance sheet is a fundamental financial statement that shows a company's assets, liabilities, and equity at a specific point in time. The balance sheet equation is assets = liabilities + equity. Assets are resources that a company owns or controls, such as cash, inventory, and property. Liabilities are obligations that a company owes to others, such as loans and accounts payable. Equity represents the residual interest in the assets of a company after deducting liabilities. \n",
      "\n",
      "The income statement is another fundamental financial statement that shows a company's financial performance over a period of time, typically a year or a quarter. The income statement shows a company's revenues, expenses, and net income or loss. Revenues are the amounts earned from the sale of goods or services, while expenses are the costs incurred to generate those revenues. Net income or loss is the difference between revenues and expenses. \n",
      "\n",
      "The cash flow statement is a fundamental financial statement that shows how a company's cash position has changed over a period of time. The cash flow statement shows a company's cash inflows and outflows from operating, investing, and financing activities. Operating activities include cash inflows and outflows from the company's primary business operations, such as sales and expenses. Investing activities include cash inflows and outflows from the purchase and sale of long-term assets, such as property and equipment. Financing activities include cash inflows and outflows from the issuance and repayment of debt and equity, such as loans and stock sales. \n",
      "\n",
      "Overall, the textbook provides a thorough overview of the three primary financial statements and their fundamental components. As an accounting professor, I would recommend this textbook to students as a valuable resource for understanding financial accounting.\n"
     ]
    }
   ],
   "source": [
    "# Summarize takeaways from Chapter 2 of report 1\n",
    "\n",
    "prompt = f\"\"\"\n",
    "Analyze this accounting textbook as an accounting professor. How are the three financial statements related? \\\n",
    "What are the fundamentals of the balance sheet, the income statement, and the cash flow statement? \\\n",
    "Provide a response to this question from the report below, delimited by triple backticks in at most 1,000 words \\\n",
    "\n",
    "\n",
    "Review: ```{Report1}```\n",
    "\"\"\"\n",
    "\n",
    "response = get_completion(prompt)\n",
    "print(response)"
   ]
  }
 ],
 "metadata": {
  "kernelspec": {
   "display_name": "Python 3 (ipykernel)",
   "language": "python",
   "name": "python3"
  },
  "language_info": {
   "codemirror_mode": {
    "name": "ipython",
    "version": 3
   },
   "file_extension": ".py",
   "mimetype": "text/x-python",
   "name": "python",
   "nbconvert_exporter": "python",
   "pygments_lexer": "ipython3",
   "version": "3.10.8"
  }
 },
 "nbformat": 4,
 "nbformat_minor": 5
}
